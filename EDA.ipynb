{
 "cells": [
  {
   "cell_type": "code",
   "execution_count": 1,
   "metadata": {},
   "outputs": [],
   "source": [
    "%matplotlib inline\n",
    "import matplotlib\n",
    "import matplotlib.pyplot as plt\n",
    "import numpy as np\n",
    "import pandas as pd\n",
    "import sklearn\n",
    "import seaborn as sns\n",
    "import sqlite3\n",
    "from sqlalchemy import create_engine"
   ]
  },
  {
   "cell_type": "code",
   "execution_count": 2,
   "metadata": {},
   "outputs": [],
   "source": [
    "# Does not work - file too large - using method below to load in portion of full dataframe\n",
    "# acc_df = pd.read_csv('accepted_2007_to_2018Q4.csv')"
   ]
  },
  {
   "cell_type": "code",
   "execution_count": 3,
   "metadata": {},
   "outputs": [
    {
     "name": "stdout",
     "output_type": "stream",
     "text": [
      "File directory: /home/arlisscoates/Documents/NYCDSA_Projects/Capstone/accepted_2007_to_2018Q4.csv\n"
     ]
    }
   ],
   "source": [
    "DIR = '/home/arlisscoates/Documents/NYCDSA_Projects/Capstone/'\n",
    "FILE = 'accepted_2007_to_2018Q4.csv'\n",
    "\n",
    "file = '{}{}'.format(DIR, FILE)\n",
    "\n",
    "print('File directory: {}'.format(file))"
   ]
  },
  {
   "cell_type": "code",
   "execution_count": 4,
   "metadata": {},
   "outputs": [],
   "source": [
    "df = pd.read_csv(file, nrows=2000)"
   ]
  },
  {
   "cell_type": "code",
   "execution_count": 5,
   "metadata": {},
   "outputs": [
    {
     "data": {
      "text/html": [
       "<div>\n",
       "<style scoped>\n",
       "    .dataframe tbody tr th:only-of-type {\n",
       "        vertical-align: middle;\n",
       "    }\n",
       "\n",
       "    .dataframe tbody tr th {\n",
       "        vertical-align: top;\n",
       "    }\n",
       "\n",
       "    .dataframe thead th {\n",
       "        text-align: right;\n",
       "    }\n",
       "</style>\n",
       "<table border=\"1\" class=\"dataframe\">\n",
       "  <thead>\n",
       "    <tr style=\"text-align: right;\">\n",
       "      <th></th>\n",
       "      <th>id</th>\n",
       "      <th>member_id</th>\n",
       "      <th>loan_amnt</th>\n",
       "      <th>funded_amnt</th>\n",
       "      <th>funded_amnt_inv</th>\n",
       "      <th>term</th>\n",
       "      <th>int_rate</th>\n",
       "      <th>installment</th>\n",
       "      <th>grade</th>\n",
       "      <th>sub_grade</th>\n",
       "      <th>...</th>\n",
       "      <th>hardship_payoff_balance_amount</th>\n",
       "      <th>hardship_last_payment_amount</th>\n",
       "      <th>disbursement_method</th>\n",
       "      <th>debt_settlement_flag</th>\n",
       "      <th>debt_settlement_flag_date</th>\n",
       "      <th>settlement_status</th>\n",
       "      <th>settlement_date</th>\n",
       "      <th>settlement_amount</th>\n",
       "      <th>settlement_percentage</th>\n",
       "      <th>settlement_term</th>\n",
       "    </tr>\n",
       "  </thead>\n",
       "  <tbody>\n",
       "    <tr>\n",
       "      <th>0</th>\n",
       "      <td>68407277</td>\n",
       "      <td>NaN</td>\n",
       "      <td>3600.0</td>\n",
       "      <td>3600.0</td>\n",
       "      <td>3600.0</td>\n",
       "      <td>36 months</td>\n",
       "      <td>13.99</td>\n",
       "      <td>123.03</td>\n",
       "      <td>C</td>\n",
       "      <td>C4</td>\n",
       "      <td>...</td>\n",
       "      <td>NaN</td>\n",
       "      <td>NaN</td>\n",
       "      <td>Cash</td>\n",
       "      <td>N</td>\n",
       "      <td>NaN</td>\n",
       "      <td>NaN</td>\n",
       "      <td>NaN</td>\n",
       "      <td>NaN</td>\n",
       "      <td>NaN</td>\n",
       "      <td>NaN</td>\n",
       "    </tr>\n",
       "    <tr>\n",
       "      <th>1</th>\n",
       "      <td>68355089</td>\n",
       "      <td>NaN</td>\n",
       "      <td>24700.0</td>\n",
       "      <td>24700.0</td>\n",
       "      <td>24700.0</td>\n",
       "      <td>36 months</td>\n",
       "      <td>11.99</td>\n",
       "      <td>820.28</td>\n",
       "      <td>C</td>\n",
       "      <td>C1</td>\n",
       "      <td>...</td>\n",
       "      <td>NaN</td>\n",
       "      <td>NaN</td>\n",
       "      <td>Cash</td>\n",
       "      <td>N</td>\n",
       "      <td>NaN</td>\n",
       "      <td>NaN</td>\n",
       "      <td>NaN</td>\n",
       "      <td>NaN</td>\n",
       "      <td>NaN</td>\n",
       "      <td>NaN</td>\n",
       "    </tr>\n",
       "    <tr>\n",
       "      <th>2</th>\n",
       "      <td>68341763</td>\n",
       "      <td>NaN</td>\n",
       "      <td>20000.0</td>\n",
       "      <td>20000.0</td>\n",
       "      <td>20000.0</td>\n",
       "      <td>60 months</td>\n",
       "      <td>10.78</td>\n",
       "      <td>432.66</td>\n",
       "      <td>B</td>\n",
       "      <td>B4</td>\n",
       "      <td>...</td>\n",
       "      <td>NaN</td>\n",
       "      <td>NaN</td>\n",
       "      <td>Cash</td>\n",
       "      <td>N</td>\n",
       "      <td>NaN</td>\n",
       "      <td>NaN</td>\n",
       "      <td>NaN</td>\n",
       "      <td>NaN</td>\n",
       "      <td>NaN</td>\n",
       "      <td>NaN</td>\n",
       "    </tr>\n",
       "    <tr>\n",
       "      <th>3</th>\n",
       "      <td>66310712</td>\n",
       "      <td>NaN</td>\n",
       "      <td>35000.0</td>\n",
       "      <td>35000.0</td>\n",
       "      <td>35000.0</td>\n",
       "      <td>60 months</td>\n",
       "      <td>14.85</td>\n",
       "      <td>829.90</td>\n",
       "      <td>C</td>\n",
       "      <td>C5</td>\n",
       "      <td>...</td>\n",
       "      <td>NaN</td>\n",
       "      <td>NaN</td>\n",
       "      <td>Cash</td>\n",
       "      <td>N</td>\n",
       "      <td>NaN</td>\n",
       "      <td>NaN</td>\n",
       "      <td>NaN</td>\n",
       "      <td>NaN</td>\n",
       "      <td>NaN</td>\n",
       "      <td>NaN</td>\n",
       "    </tr>\n",
       "    <tr>\n",
       "      <th>4</th>\n",
       "      <td>68476807</td>\n",
       "      <td>NaN</td>\n",
       "      <td>10400.0</td>\n",
       "      <td>10400.0</td>\n",
       "      <td>10400.0</td>\n",
       "      <td>60 months</td>\n",
       "      <td>22.45</td>\n",
       "      <td>289.91</td>\n",
       "      <td>F</td>\n",
       "      <td>F1</td>\n",
       "      <td>...</td>\n",
       "      <td>NaN</td>\n",
       "      <td>NaN</td>\n",
       "      <td>Cash</td>\n",
       "      <td>N</td>\n",
       "      <td>NaN</td>\n",
       "      <td>NaN</td>\n",
       "      <td>NaN</td>\n",
       "      <td>NaN</td>\n",
       "      <td>NaN</td>\n",
       "      <td>NaN</td>\n",
       "    </tr>\n",
       "  </tbody>\n",
       "</table>\n",
       "<p>5 rows × 151 columns</p>\n",
       "</div>"
      ],
      "text/plain": [
       "         id  member_id  loan_amnt  funded_amnt  funded_amnt_inv        term  \\\n",
       "0  68407277        NaN     3600.0       3600.0           3600.0   36 months   \n",
       "1  68355089        NaN    24700.0      24700.0          24700.0   36 months   \n",
       "2  68341763        NaN    20000.0      20000.0          20000.0   60 months   \n",
       "3  66310712        NaN    35000.0      35000.0          35000.0   60 months   \n",
       "4  68476807        NaN    10400.0      10400.0          10400.0   60 months   \n",
       "\n",
       "   int_rate  installment grade sub_grade       ...        \\\n",
       "0     13.99       123.03     C        C4       ...         \n",
       "1     11.99       820.28     C        C1       ...         \n",
       "2     10.78       432.66     B        B4       ...         \n",
       "3     14.85       829.90     C        C5       ...         \n",
       "4     22.45       289.91     F        F1       ...         \n",
       "\n",
       "  hardship_payoff_balance_amount hardship_last_payment_amount  \\\n",
       "0                            NaN                          NaN   \n",
       "1                            NaN                          NaN   \n",
       "2                            NaN                          NaN   \n",
       "3                            NaN                          NaN   \n",
       "4                            NaN                          NaN   \n",
       "\n",
       "  disbursement_method  debt_settlement_flag debt_settlement_flag_date  \\\n",
       "0                Cash                     N                       NaN   \n",
       "1                Cash                     N                       NaN   \n",
       "2                Cash                     N                       NaN   \n",
       "3                Cash                     N                       NaN   \n",
       "4                Cash                     N                       NaN   \n",
       "\n",
       "  settlement_status settlement_date settlement_amount settlement_percentage  \\\n",
       "0               NaN             NaN               NaN                   NaN   \n",
       "1               NaN             NaN               NaN                   NaN   \n",
       "2               NaN             NaN               NaN                   NaN   \n",
       "3               NaN             NaN               NaN                   NaN   \n",
       "4               NaN             NaN               NaN                   NaN   \n",
       "\n",
       "  settlement_term  \n",
       "0             NaN  \n",
       "1             NaN  \n",
       "2             NaN  \n",
       "3             NaN  \n",
       "4             NaN  \n",
       "\n",
       "[5 rows x 151 columns]"
      ]
     },
     "execution_count": 5,
     "metadata": {},
     "output_type": "execute_result"
    }
   ],
   "source": [
    "df.head(5)"
   ]
  },
  {
   "cell_type": "code",
   "execution_count": 18,
   "metadata": {},
   "outputs": [],
   "source": [
    "csv_database = create_engine('sqlite:///csv_database.db')"
   ]
  },
  {
   "cell_type": "code",
   "execution_count": 22,
   "metadata": {},
   "outputs": [
    {
     "name": "stdout",
     "output_type": "stream",
     "text": [
      " | index: 10000\n",
      " | index: 30000\n",
      " | index: 60000\n"
     ]
    },
    {
     "name": "stderr",
     "output_type": "stream",
     "text": [
      "/home/arlisscoates/anaconda3/lib/python3.7/site-packages/IPython/core/interactiveshell.py:3058: DtypeWarning: Columns (19,59) have mixed types. Specify dtype option on import or set low_memory=False.\n",
      "  interactivity=interactivity, compiler=compiler, result=result)\n"
     ]
    },
    {
     "name": "stdout",
     "output_type": "stream",
     "text": [
      " | index: 100000\n",
      " | index: 150000\n",
      " | index: 210000\n",
      " | index: 280000\n",
      " | index: 360000\n",
      " | index: 450000\n",
      " | index: 550000\n"
     ]
    },
    {
     "name": "stderr",
     "output_type": "stream",
     "text": [
      "/home/arlisscoates/anaconda3/lib/python3.7/site-packages/IPython/core/interactiveshell.py:3058: DtypeWarning: Columns (59) have mixed types. Specify dtype option on import or set low_memory=False.\n",
      "  interactivity=interactivity, compiler=compiler, result=result)\n"
     ]
    },
    {
     "name": "stdout",
     "output_type": "stream",
     "text": [
      " | index: 660000\n",
      " | index: 780000\n",
      " | index: 910000\n",
      " | index: 1050000\n",
      " | index: 1200000\n",
      " | index: 1360000\n",
      " | index: 1530000\n",
      " | index: 1710000\n",
      " | index: 1900000\n",
      " | index: 2100000\n",
      " | index: 2310000\n",
      " | index: 2530000\n",
      " | index: 2760000\n",
      " | index: 3000000\n",
      " | index: 3250000\n",
      " | index: 3510000\n",
      " | index: 3780000\n",
      " | index: 4060000\n",
      " | index: 4350000\n",
      " | index: 4650000\n",
      " | index: 4960000\n",
      " | index: 5280000\n",
      " | index: 5610000\n",
      " | index: 5950000\n",
      " | index: 6300000\n",
      " | index: 6660000\n",
      " | index: 7030000\n",
      " | index: 7410000\n",
      " | index: 7800000\n",
      " | index: 8200000\n",
      " | index: 8610000\n",
      " | index: 9030000\n"
     ]
    },
    {
     "name": "stderr",
     "output_type": "stream",
     "text": [
      "/home/arlisscoates/anaconda3/lib/python3.7/site-packages/IPython/core/interactiveshell.py:3058: DtypeWarning: Columns (0,19) have mixed types. Specify dtype option on import or set low_memory=False.\n",
      "  interactivity=interactivity, compiler=compiler, result=result)\n"
     ]
    },
    {
     "name": "stdout",
     "output_type": "stream",
     "text": [
      " | index: 9460000\n",
      " | index: 9900000\n",
      " | index: 10350000\n",
      " | index: 10810000\n",
      " | index: 11280000\n",
      " | index: 11760000\n",
      " | index: 12250000\n",
      " | index: 12750000\n",
      " | index: 13260000\n",
      " | index: 13780000\n"
     ]
    },
    {
     "name": "stderr",
     "output_type": "stream",
     "text": [
      "/home/arlisscoates/anaconda3/lib/python3.7/site-packages/IPython/core/interactiveshell.py:3058: DtypeWarning: Columns (0) have mixed types. Specify dtype option on import or set low_memory=False.\n",
      "  interactivity=interactivity, compiler=compiler, result=result)\n"
     ]
    },
    {
     "name": "stdout",
     "output_type": "stream",
     "text": [
      " | index: 14310000\n",
      " | index: 14850000\n",
      " | index: 15400000\n",
      " | index: 15960000\n",
      " | index: 16530000\n",
      " | index: 17110000\n",
      " | index: 17700000\n",
      " | index: 18300000\n",
      " | index: 18910000\n",
      " | index: 19530000\n",
      " | index: 20160000\n",
      " | index: 20800000\n",
      " | index: 21450000\n"
     ]
    },
    {
     "name": "stderr",
     "output_type": "stream",
     "text": [
      "/home/arlisscoates/anaconda3/lib/python3.7/site-packages/IPython/core/interactiveshell.py:3058: DtypeWarning: Columns (0,19,118) have mixed types. Specify dtype option on import or set low_memory=False.\n",
      "  interactivity=interactivity, compiler=compiler, result=result)\n"
     ]
    },
    {
     "name": "stdout",
     "output_type": "stream",
     "text": [
      " | index: 22110000\n",
      " | index: 22780000\n",
      " | index: 23460000\n",
      " | index: 24150000\n",
      " | index: 24850000\n",
      " | index: 25560000\n",
      " | index: 26280000\n",
      " | index: 27010000\n",
      " | index: 27750000\n",
      " | index: 28500000\n"
     ]
    },
    {
     "name": "stderr",
     "output_type": "stream",
     "text": [
      "/home/arlisscoates/anaconda3/lib/python3.7/site-packages/IPython/core/interactiveshell.py:3058: DtypeWarning: Columns (129,130,131,134,135,136,139,145,146,147) have mixed types. Specify dtype option on import or set low_memory=False.\n",
      "  interactivity=interactivity, compiler=compiler, result=result)\n"
     ]
    },
    {
     "name": "stdout",
     "output_type": "stream",
     "text": [
      " | index: 29260000\n",
      " | index: 30030000\n"
     ]
    },
    {
     "name": "stderr",
     "output_type": "stream",
     "text": [
      "/home/arlisscoates/anaconda3/lib/python3.7/site-packages/IPython/core/interactiveshell.py:3058: DtypeWarning: Columns (145,146,147) have mixed types. Specify dtype option on import or set low_memory=False.\n",
      "  interactivity=interactivity, compiler=compiler, result=result)\n"
     ]
    },
    {
     "name": "stdout",
     "output_type": "stream",
     "text": [
      " | index: 30810000\n",
      " | index: 31600000\n",
      " | index: 32400000\n",
      " | index: 33210000\n",
      " | index: 34030000\n",
      " | index: 34860000\n",
      " | index: 35700000\n",
      " | index: 36550000\n",
      " | index: 37410000\n",
      " | index: 38280000\n"
     ]
    },
    {
     "name": "stderr",
     "output_type": "stream",
     "text": [
      "/home/arlisscoates/anaconda3/lib/python3.7/site-packages/IPython/core/interactiveshell.py:3058: DtypeWarning: Columns (0,129,130,131,134,135,136,139) have mixed types. Specify dtype option on import or set low_memory=False.\n",
      "  interactivity=interactivity, compiler=compiler, result=result)\n"
     ]
    },
    {
     "name": "stdout",
     "output_type": "stream",
     "text": [
      " | index: 39160000\n",
      " | index: 40050000\n",
      " | index: 40950000\n",
      " | index: 41860000\n",
      " | index: 42780000\n",
      " | index: 43710000\n",
      " | index: 44650000\n",
      " | index: 45600000\n",
      " | index: 46560000\n",
      " | index: 47530000\n",
      " | index: 48510000\n"
     ]
    },
    {
     "name": "stderr",
     "output_type": "stream",
     "text": [
      "/home/arlisscoates/anaconda3/lib/python3.7/site-packages/IPython/core/interactiveshell.py:3058: DtypeWarning: Columns (0,118) have mixed types. Specify dtype option on import or set low_memory=False.\n",
      "  interactivity=interactivity, compiler=compiler, result=result)\n"
     ]
    },
    {
     "name": "stdout",
     "output_type": "stream",
     "text": [
      " | index: 49500000\n",
      " | index: 50500000\n",
      " | index: 51510000\n",
      " | index: 52530000\n",
      " | index: 53560000\n",
      " | index: 54600000\n",
      " | index: 55650000\n",
      " | index: 56710000\n",
      " | index: 57780000\n",
      " | index: 58860000\n",
      " | index: 59950000\n",
      " | index: 61050000\n",
      " | index: 62160000\n"
     ]
    },
    {
     "name": "stderr",
     "output_type": "stream",
     "text": [
      "/home/arlisscoates/anaconda3/lib/python3.7/site-packages/IPython/core/interactiveshell.py:3058: DtypeWarning: Columns (0,59) have mixed types. Specify dtype option on import or set low_memory=False.\n",
      "  interactivity=interactivity, compiler=compiler, result=result)\n"
     ]
    },
    {
     "name": "stdout",
     "output_type": "stream",
     "text": [
      " | index: 63280000\n",
      " | index: 64410000\n",
      " | index: 65550000\n",
      " | index: 66700000\n",
      " | index: 67860000\n",
      " | index: 69030000\n",
      " | index: 70210000\n",
      " | index: 71400000\n",
      " | index: 72600000\n",
      " | index: 73810000\n",
      " | index: 75030000\n",
      " | index: 76260000\n",
      " | index: 77500000\n",
      " | index: 78750000\n",
      " | index: 80010000\n",
      " | index: 81280000\n",
      " | index: 82560000\n",
      " | index: 83850000\n",
      " | index: 85150000\n",
      " | index: 86460000\n",
      " | index: 87780000\n",
      " | index: 89110000\n"
     ]
    },
    {
     "name": "stderr",
     "output_type": "stream",
     "text": [
      "/home/arlisscoates/anaconda3/lib/python3.7/site-packages/IPython/core/interactiveshell.py:3058: DtypeWarning: Columns (129,130,131,134,135,136,139) have mixed types. Specify dtype option on import or set low_memory=False.\n",
      "  interactivity=interactivity, compiler=compiler, result=result)\n"
     ]
    },
    {
     "name": "stdout",
     "output_type": "stream",
     "text": [
      " | index: 90450000\n",
      " | index: 91800000\n"
     ]
    },
    {
     "name": "stderr",
     "output_type": "stream",
     "text": [
      "/home/arlisscoates/anaconda3/lib/python3.7/site-packages/IPython/core/interactiveshell.py:3058: DtypeWarning: Columns (0,19,129,130,131,134,135,136,139,145,146,147) have mixed types. Specify dtype option on import or set low_memory=False.\n",
      "  interactivity=interactivity, compiler=compiler, result=result)\n"
     ]
    },
    {
     "name": "stdout",
     "output_type": "stream",
     "text": [
      " | index: 93160000\n",
      " | index: 94530000\n",
      " | index: 95910000\n",
      " | index: 97300000\n",
      " | index: 98700000\n",
      " | index: 100110000\n",
      " | index: 101530000\n",
      " | index: 102960000\n",
      " | index: 104400000\n",
      " | index: 105850000\n",
      " | index: 107310000\n",
      " | index: 108780000\n",
      " | index: 110260000\n",
      " | index: 111750000\n",
      " | index: 113250000\n",
      " | index: 114760000\n",
      " | index: 116280000\n",
      " | index: 117810000\n",
      " | index: 119350000\n",
      " | index: 120900000\n",
      " | index: 122460000\n",
      " | index: 124030000\n",
      " | index: 125610000\n",
      " | index: 127200000\n",
      " | index: 128800000\n",
      " | index: 130410000\n"
     ]
    },
    {
     "name": "stderr",
     "output_type": "stream",
     "text": [
      "/home/arlisscoates/anaconda3/lib/python3.7/site-packages/IPython/core/interactiveshell.py:3058: DtypeWarning: Columns (0,49,59,118,129,130,131,134,135,136,139) have mixed types. Specify dtype option on import or set low_memory=False.\n",
      "  interactivity=interactivity, compiler=compiler, result=result)\n"
     ]
    },
    {
     "name": "stdout",
     "output_type": "stream",
     "text": [
      " | index: 132030000\n",
      " | index: 133660000\n",
      " | index: 135300000\n",
      " | index: 136950000\n"
     ]
    },
    {
     "name": "stderr",
     "output_type": "stream",
     "text": [
      "/home/arlisscoates/anaconda3/lib/python3.7/site-packages/IPython/core/interactiveshell.py:3058: DtypeWarning: Columns (0,19,59,118,129,130,131,134,135,136,139) have mixed types. Specify dtype option on import or set low_memory=False.\n",
      "  interactivity=interactivity, compiler=compiler, result=result)\n"
     ]
    },
    {
     "name": "stdout",
     "output_type": "stream",
     "text": [
      " | index: 138610000\n",
      " | index: 140280000\n"
     ]
    },
    {
     "name": "stderr",
     "output_type": "stream",
     "text": [
      "/home/arlisscoates/anaconda3/lib/python3.7/site-packages/IPython/core/interactiveshell.py:3058: DtypeWarning: Columns (118) have mixed types. Specify dtype option on import or set low_memory=False.\n",
      "  interactivity=interactivity, compiler=compiler, result=result)\n"
     ]
    },
    {
     "name": "stdout",
     "output_type": "stream",
     "text": [
      " | index: 141960000\n",
      " | index: 143650000\n",
      " | index: 145350000\n",
      " | index: 147060000\n",
      " | index: 148780000\n",
      " | index: 150510000\n",
      " | index: 152250000\n",
      " | index: 154000000\n"
     ]
    },
    {
     "name": "stderr",
     "output_type": "stream",
     "text": [
      "/home/arlisscoates/anaconda3/lib/python3.7/site-packages/IPython/core/interactiveshell.py:3058: DtypeWarning: Columns (0,49,59,129,130,131,134,135,136,139) have mixed types. Specify dtype option on import or set low_memory=False.\n",
      "  interactivity=interactivity, compiler=compiler, result=result)\n"
     ]
    },
    {
     "name": "stdout",
     "output_type": "stream",
     "text": [
      " | index: 155760000\n"
     ]
    },
    {
     "name": "stderr",
     "output_type": "stream",
     "text": [
      "/home/arlisscoates/anaconda3/lib/python3.7/site-packages/IPython/core/interactiveshell.py:3058: DtypeWarning: Columns (49) have mixed types. Specify dtype option on import or set low_memory=False.\n",
      "  interactivity=interactivity, compiler=compiler, result=result)\n"
     ]
    },
    {
     "name": "stdout",
     "output_type": "stream",
     "text": [
      " | index: 157530000\n",
      " | index: 159310000\n",
      " | index: 161100000\n",
      " | index: 162900000\n",
      " | index: 164710000\n",
      " | index: 166530000\n",
      " | index: 168360000\n",
      " | index: 170200000\n",
      " | index: 172050000\n",
      " | index: 173910000\n",
      " | index: 175780000\n",
      " | index: 177660000\n",
      " | index: 179550000\n",
      " | index: 181450000\n",
      " | index: 183360000\n",
      " | index: 185280000\n",
      " | index: 187210000\n",
      " | index: 189150000\n",
      " | index: 191100000\n",
      " | index: 193060000\n",
      " | index: 195030000\n",
      " | index: 197010000\n",
      " | index: 199000000\n",
      " | index: 201000000\n",
      " | index: 203010000\n",
      " | index: 205030000\n",
      " | index: 207060000\n",
      " | index: 209100000\n",
      " | index: 211150000\n",
      " | index: 213210000\n",
      " | index: 215280000\n",
      " | index: 217360000\n",
      " | index: 219450000\n",
      " | index: 221550000\n",
      " | index: 223660000\n",
      " | index: 225780000\n",
      " | index: 227910000\n",
      " | index: 230050000\n",
      " | index: 232200000\n",
      " | index: 234360000\n",
      " | index: 236530000\n",
      " | index: 238710000\n",
      " | index: 240900000\n",
      " | index: 243100000\n",
      " | index: 245310000\n",
      " | index: 247530000\n",
      " | index: 249760000\n",
      " | index: 252000000\n",
      " | index: 254250000\n",
      " | index: 256510000\n",
      " | index: 258770701\n"
     ]
    }
   ],
   "source": [
    "chunksize = 10000\n",
    "i = 0\n",
    "j = 0\n",
    "\n",
    "for df in pd.read_csv(file, chunksize=chunksize, iterator=True):\n",
    "    df = df.rename(columns = {c:c.replace(' ', '') for c in df.columns})\n",
    "    df.index += j\n",
    "    \n",
    "    df.to_sql('data_use', csv_database, if_exists = 'append')\n",
    "    j = df.index[-1]+1\n",
    "    \n",
    "    print(' | index: {}'.format(j))"
   ]
  },
  {
   "cell_type": "code",
   "execution_count": null,
   "metadata": {},
   "outputs": [],
   "source": [
    "pd.read_sql_query('SELECT * FROM ')"
   ]
  }
 ],
 "metadata": {
  "kernelspec": {
   "display_name": "Python 3",
   "language": "python",
   "name": "python3"
  },
  "language_info": {
   "codemirror_mode": {
    "name": "ipython",
    "version": 3
   },
   "file_extension": ".py",
   "mimetype": "text/x-python",
   "name": "python",
   "nbconvert_exporter": "python",
   "pygments_lexer": "ipython3",
   "version": "3.7.3"
  }
 },
 "nbformat": 4,
 "nbformat_minor": 2
}
